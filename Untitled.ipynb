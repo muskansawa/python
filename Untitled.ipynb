{
 "cells": [
  {
   "cell_type": "code",
   "execution_count": 3,
   "metadata": {},
   "outputs": [
    {
     "name": "stdout",
     "output_type": "stream",
     "text": [
      "4\n"
     ]
    }
   ],
   "source": [
    "x =\"4\"\n",
    "x = int(x)\n",
    "print(x)"
   ]
  },
  {
   "cell_type": "code",
   "execution_count": 4,
   "metadata": {},
   "outputs": [
    {
     "name": "stdout",
     "output_type": "stream",
     "text": [
      "enter the no. of minutes56\n",
      "enter the no. of seconds67\n",
      "0hrs :57mins :7secs\n"
     ]
    }
   ],
   "source": [
    "def clock(min,sec):\n",
    "     \n",
    "    if(sec>60):\n",
    "        min = min+ (sec//60)\n",
    "        sec =  sec%60\n",
    "        sec = str(sec)\n",
    "\n",
    "    hour = str(min//60)\n",
    "    min = str(min%60)\n",
    "\n",
    "    print(hour+\"hrs :\"+min+\"mins :\"+sec+\"secs\")\n",
    "\n",
    "min = int(input(\"enter the no. of minutes\"))\n",
    "sec = int(input(\"enter the no. of seconds\"))\n",
    "clock(min,sec)"
   ]
  },
  {
   "cell_type": "code",
   "execution_count": null,
   "metadata": {},
   "outputs": [],
   "source": []
  }
 ],
 "metadata": {
  "kernelspec": {
   "display_name": "Python 3",
   "language": "python",
   "name": "python3"
  },
  "language_info": {
   "codemirror_mode": {
    "name": "ipython",
    "version": 3
   },
   "file_extension": ".py",
   "mimetype": "text/x-python",
   "name": "python",
   "nbconvert_exporter": "python",
   "pygments_lexer": "ipython3",
   "version": "3.7.4"
  }
 },
 "nbformat": 4,
 "nbformat_minor": 2
}
